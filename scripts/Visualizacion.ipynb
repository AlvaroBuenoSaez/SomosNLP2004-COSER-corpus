{
 "cells": [
  {
   "cell_type": "code",
   "execution_count": 1,
   "id": "ad680f74-bbdf-4808-9492-9e3357ae33e6",
   "metadata": {
    "tags": []
   },
   "outputs": [],
   "source": [
    "import pandas as pd\n",
    "import matplotlib.pyplot as plt\n",
    "import re"
   ]
  },
  {
   "cell_type": "code",
   "execution_count": 6,
   "id": "de53374d-4385-49fd-9f80-e363f64d8990",
   "metadata": {
    "tags": []
   },
   "outputs": [],
   "source": [
    "# Función para cargar un archivo CSV en un DataFrame\n",
    "def csv2Df(archivo_csv):\n",
    "    try:\n",
    "        # Cargar el archivo CSV en un DataFrame\n",
    "        df = pd.read_csv(archivo_csv, sep='/', encoding='utf-8', on_bad_lines='warn')\n",
    "        return df\n",
    "    except FileNotFoundError:\n",
    "        print(\"El archivo CSV no fue encontrado.\")\n",
    "        return None\n",
    "    except Exception as e:\n",
    "        print(\"Ocurrió un error al cargar el archivo CSV:\", e)\n",
    "        return None\n",
    "\n",
    "# Función para filtrar un DataFrame por un valor específico en la primera columna\n",
    "def filtrarPorEntrevista(dataframe, valor):\n",
    "    try:\n",
    "        # Filtrar el DataFrame por el valor específico en la primera columna\n",
    "        df_filtrado = dataframe[dataframe.iloc[:, 0] == valor]\n",
    "        return df_filtrado\n",
    "    except Exception as e:\n",
    "        print(\"Ocurrió un error al filtrar por valor en la primera columna:\", e)\n",
    "        return None\n",
    "    \n",
    "# Función para visualizar cada x turnos de un DataFrame\n",
    "def visualizarCadaXTurnos(dataframe, x):\n",
    "    try:\n",
    "        # Iterar sobre el DataFrame y visualizar una fila cada x filas\n",
    "        for index, row in dataframe.iterrows():\n",
    "            if index % x == 0:\n",
    "                # Extraer los valores de las columnas \"speaker_id\" y \"text\"\n",
    "                speaker_id = row['speaker_id']\n",
    "                text = row['text']\n",
    "                \n",
    "                # Mostrar los valores en pantalla\n",
    "                print(\"speaker_id:\", speaker_id)\n",
    "                print(\"text:\", text)\n",
    "                print()  # Separador de líneas para mejor legibilidad\n",
    "    except Exception as e:\n",
    "        print(\"Ocurrió un error al visualizar las filas:\", e)\n",
    "        \n",
    "# Función para quitar o poner regionalismos del dataframe.\n",
    "def distribucionLongitudDataframe(dataframe, umbral=None):\n",
    "    try:\n",
    "        lista = []\n",
    "        # Calcular la longitud de la columna de texto en cada fila\n",
    "        longitudes = dataframe['text'].apply(len)\n",
    "        \n",
    "        # Iterar sobre las filas del DataFrame\n",
    "        for index, row in dataframe.iterrows():\n",
    "            text = row['text']\n",
    "            if umbral is None or len(text) >= umbral:\n",
    "                lista.append(len(text))\n",
    "        \n",
    "        # Calcular el rango para los ejes x del histograma\n",
    "        min_longitud = min(lista)\n",
    "        max_longitud = max(lista)\n",
    "        \n",
    "        # Imprimir los valores mínimo y máximo\n",
    "        print(\"Longitud mínima:\", min_longitud)\n",
    "        print(\"Longitud máxima:\", max_longitud)\n",
    "\n",
    "        # Crear un histograma con la distribución de las longitudes\n",
    "        plt.hist(lista, bins=30, color='skyblue', edgecolor='black', range=(min_longitud, max_longitud), density=True)\n",
    "        plt.xlabel('Longitud del texto')\n",
    "        plt.ylabel('Frecuencia')\n",
    "        plt.title('Distribución de longitudes de texto en el DataFrame')\n",
    "        plt.show()\n",
    "    except Exception as e:\n",
    "        print(\"Ocurrió un error al calcular la distribución de longitudes:\", e)\n",
    "        \n",
    " # Función para visualizar cada x turnos de un DataFrame\n",
    "def elegirRegionalismos(dataframe, regionalismos):\n",
    "\n",
    "    textos_modificados = []  # Lista para almacenar los textos modificados\n",
    "    try:\n",
    "        # Iterar sobre el DataFrame y visualizar una fila cada x filas\n",
    "        dataframe['text']= dataframe['text'].apply(str)\n",
    "\n",
    "        for index, row in dataframe.iterrows():\n",
    "            # Extraer los valores de las columnas \"text\"\n",
    "            text = row['text']\n",
    "            fila = row.copy()  # Copiar la fila original\n",
    "\n",
    "            if re.search(r'[a-zA-Z´¨\\'`]*=', text):                    \n",
    "                if (regionalismos): # Se queda con la estándar\n",
    "                    subcadenas = re.split(r'=', text)\n",
    "                    # Las subcadenas antes y después del patrón\n",
    "                    subcadena_anterior = subcadenas[0]\n",
    "                    subcadena_posterior = subcadenas[1]\n",
    "                    palabras = subcadena_posterior.split()\n",
    "                    primera_palabra = palabras[0]\n",
    "                    subcadena_posterior_sin_primera_palabra = ' '.join(palabras[1:])\n",
    "                    if(re.search(r'[.,?!;:¿¡\\-—–\\'\\\"“”‘’()[\\]{}<>«»@#\\$%&*_\\\\/]', primera_palabra)):\n",
    "                        match = re.search(r'[.,?!;:¿¡\\-—–\\'\\\"“”‘’()[\\]{}<>«»@#\\$%&*_\\\\/]', primera_palabra)\n",
    "                        simbolo_puntuacion = match.group()\n",
    "                        subcadena_posterior_sin_primera_palabra = simbolo_puntuacion + \" \" + subcadena_posterior_sin_primera_palabra\n",
    "\n",
    "                    cadena = subcadena_anterior + \" \" + subcadena_posterior_sin_primera_palabra\n",
    "                    fila['text'] = cadena\n",
    "\n",
    "                else : # Se queda con el regionalismo                           \n",
    "                    subcadenas = re.split(r'=', text)\n",
    "                    # Las subcadenas antes y después del patrón\n",
    "                    subcadena_anterior = subcadenas[0]\n",
    "                    subcadena_posterior = subcadenas[1]\n",
    "                    # print(subcadena_anterior)\n",
    "                    # print(subcadena_posterior)\n",
    "                    palabras = subcadena_anterior.split()\n",
    "                    subcadena_anterior_sin_ultima_palabra = ' '.join(palabras[:-1])\n",
    "                    # print(subcadena_anterior_sin_ultima_palabra)\n",
    "                    cadena = subcadena_anterior_sin_ultima_palabra + \" \" + subcadena_posterior\n",
    "                    fila['text'] = cadena\n",
    "                    \n",
    "            textos_modificados.append(fila)\n",
    "                    \n",
    "        # Crear un nuevo DataFrame con los textos modificados\n",
    "        df_modificado = pd.DataFrame(textos_modificados)\n",
    "        return df_modificado         \n",
    "                                           \n",
    "    except Exception as e:\n",
    "        print(\"Ocurrió un error al visualizar las filas:\", e)\n",
    "        \n",
    "                       "
   ]
  },
  {
   "cell_type": "code",
   "execution_count": 7,
   "id": "288f62a1-9408-475d-9091-3fed477e9f2f",
   "metadata": {
    "tags": []
   },
   "outputs": [],
   "source": [
    "# Archivo CSV de ejemplo (reemplaza 'archivo.csv' con tu propio archivo)\n",
    "archivo_csv = 'CLEAN_df_hack_full 4.csv'\n",
    "\n",
    "# Llamar a la función para cargar el CSV en un DataFrame\n",
    "dataframe = csv2Df(archivo_csv)\n",
    "df_modificado = elegirRegionalismos(dataframe, regionalismos = True)\n",
    "\n",
    "# Verificar si se cargó correctamente\n",
    "if dataframe is not None:\n",
    "        dataframe = dataframe.iloc[:, :8]\n"
   ]
  },
  {
   "cell_type": "code",
   "execution_count": 8,
   "id": "55fb0de1-aa3d-4df4-a48e-2c7ef54b0275",
   "metadata": {
    "tags": []
   },
   "outputs": [
    {
     "data": {
      "text/plain": [
       "(149265, 8)"
      ]
     },
     "execution_count": 8,
     "metadata": {},
     "output_type": "execute_result"
    }
   ],
   "source": [
    "df_modificado.shape\n"
   ]
  },
  {
   "cell_type": "code",
   "execution_count": null,
   "id": "d260ae2b-3e47-4d57-8351-710e03fb48f1",
   "metadata": {
    "tags": []
   },
   "outputs": [],
   "source": [
    "# Extraer los valores únicos de la primera columna\n",
    "valores_unicos = dataframe.iloc[:, 0].unique()\n",
    "valores_unicos"
   ]
  },
  {
   "cell_type": "code",
   "execution_count": 14,
   "id": "f09661ad-b5de-4863-8724-dfdbb69f589d",
   "metadata": {
    "tags": []
   },
   "outputs": [],
   "source": [
    "# Valor específico a buscar en la primera columna\n",
    "valor_a_buscar = 'COSER-0103-01.tagged'\n",
    "\n",
    "\n",
    "# Filtrar el DataFrame por el valor específico en la primera columna\n",
    "df_filtrado = filtrarPorEntrevista(dataframe, valor_a_buscar)\n"
   ]
  },
  {
   "cell_type": "code",
   "execution_count": 15,
   "id": "179b6653-3993-498b-b1c6-83a15984762c",
   "metadata": {
    "tags": []
   },
   "outputs": [
    {
     "name": "stdout",
     "output_type": "stream",
     "text": [
      "speaker_id: E1:\n",
      "text:  E1: Culantzi, [HS Dulantzi.] o Dulantzi. Bueno, hemos encontrado un señor de… ¿Nos podría decir la edad y el nombre? \n",
      "\n",
      "speaker_id: E1:\n",
      "text:  E1: ¿Dónde está Marieta? \n",
      "\n",
      "speaker_id: E2:\n",
      "text:  E2: Algo se le ocurriría. \n",
      "\n",
      "speaker_id: I1:\n",
      "text:  I1: Vaya, yo no he estao, pero, vamos. \n",
      "\n"
     ]
    }
   ],
   "source": [
    "visualizarCadaXTurnos(df_filtrado, 100)\n"
   ]
  },
  {
   "cell_type": "code",
   "execution_count": 16,
   "id": "f6b96ce0-dc39-4646-9b0d-8d168b5d62e2",
   "metadata": {
    "tags": []
   },
   "outputs": [
    {
     "name": "stdout",
     "output_type": "stream",
     "text": [
      "Longitud mínima: 9\n",
      "Longitud máxima: 1500\n"
     ]
    },
    {
     "data": {
      "image/png": "[encoded data removed]",
      "text/plain": [
       "<Figure size 640x480 with 1 Axes>"
      ]
     },
     "metadata": {},
     "output_type": "display_data"
    }
   ],
   "source": [
    "distribucionLongitudDataframe(df_filtrado, 0)"
   ]
  },
  {
   "cell_type": "code",
   "execution_count": null,
   "id": "b52c0f03-55e2-44b4-99a3-7629e3deee1d",
   "metadata": {},
   "outputs": [],
   "source": []
  },
  {
   "cell_type": "code",
   "execution_count": 18,
   "id": "f3596529-ecff-46a7-bdf4-5351246a620d",
   "metadata": {
    "tags": []
   },
   "outputs": [],
   "source": [
    "dataframe\n",
    "\n",
    "filtro = dataframe['text'].str.contains(r'[a-zA-Z´¨\\'`]*=')\n"
   ]
  },
  {
   "cell_type": "code",
   "execution_count": 19,
   "id": "23e64bcd-4c4e-4525-8a82-75766ec507be",
   "metadata": {
    "tags": []
   },
   "outputs": [
    {
     "data": {
      "text/plain": [
       "0         False\n",
       "1         False\n",
       "2         False\n",
       "3         False\n",
       "4         False\n",
       "          ...  \n",
       "149260    False\n",
       "149261    False\n",
       "149262    False\n",
       "149263    False\n",
       "149264    False\n",
       "Name: text, Length: 149265, dtype: bool"
      ]
     },
     "execution_count": 19,
     "metadata": {},
     "output_type": "execute_result"
    }
   ],
   "source": [
    "filtro"
   ]
  },
  {
   "cell_type": "code",
   "execution_count": 20,
   "id": "de05ee7c-3780-4e22-bd9f-5f41657ae384",
   "metadata": {
    "tags": []
   },
   "outputs": [],
   "source": [
    "resultado = dataframe[filtro]"
   ]
  },
  {
   "cell_type": "code",
   "execution_count": 22,
   "id": "aed934e1-f03e-4f85-8539-4a644dc81218",
   "metadata": {
    "tags": []
   },
   "outputs": [
    {
     "data": {
      "text/plain": [
       "15698"
      ]
     },
     "execution_count": 22,
     "metadata": {},
     "output_type": "execute_result"
    }
   ],
   "source": [
    "len(resultado)"
   ]
  },
  {
   "cell_type": "code",
   "execution_count": 25,
   "id": "160ce155-2644-4efd-b88f-6b7713061674",
   "metadata": {
    "tags": []
   },
   "outputs": [
    {
     "name": "stdout",
     "output_type": "stream",
     "text": [
      "6          I1: Pues cebada, trigo, máiz=maíz, remolacha,...\n",
      "12         I1: Bah, los chavales que van ahora a la escu...\n",
      "32         I1: ¿Qué cambiaría? Pues en trabajar mucho me...\n",
      "34                   I1: No, yo pa=para estudiar no valgo. \n",
      "44         I1: Sí, vaya, yo vine aquí con cinco años, pe...\n",
      "                                ...                        \n",
      "149192     I1:  Por ejemplo,  si habían… unas hojas de| ...\n",
      "149197     I1: Sí, mi niño. [HS ¿Sí?] Sí, adentro. Espér...\n",
      "149198     I2: [PS:16''] Pues nos hamos=hemos estao un r...\n",
      "149217     I1: Nunca pensé yo de llegar a Venezuela. No....\n",
      "149230     I1: Que yo… [HS Que esto iba a ser así.]  A… ...\n",
      "Name: text, Length: 15698, dtype: object\n"
     ]
    }
   ],
   "source": [
    "print(resultado['text'])\n"
   ]
  },
  {
   "cell_type": "code",
   "execution_count": 26,
   "id": "77bd9d85-c551-4f06-af5e-d4d9926c1654",
   "metadata": {
    "tags": []
   },
   "outputs": [],
   "source": [
    "resultado['text'].to_csv('regionalismos.csv', index=True)\n"
   ]
  },
  {
   "cell_type": "code",
   "execution_count": null,
   "id": "c46a2ffe-baad-4102-a2a2-5ea5ae6e88c1",
   "metadata": {},
   "outputs": [],
   "source": []
  },
  {
   "cell_type": "code",
   "execution_count": null,
   "id": "322c5fea-195c-4de1-88a2-3d5f8c486355",
   "metadata": {},
   "outputs": [],
   "source": []
  }
 ],
 "metadata": {
  "kernelspec": {
   "display_name": "Python 3 (ipykernel)",
   "language": "python",
   "name": "python3"
  },
  "language_info": {
   "codemirror_mode": {
    "name": "ipython",
    "version": 3
   },
   "file_extension": ".py",
   "mimetype": "text/x-python",
   "name": "python",
   "nbconvert_exporter": "python",
   "pygments_lexer": "ipython3",
   "version": "3.9.18"
  }
 },
 "nbformat": 4,
 "nbformat_minor": 5
}
